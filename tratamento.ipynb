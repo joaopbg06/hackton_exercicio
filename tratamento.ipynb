{
 "cells": [
  {
   "cell_type": "code",
   "execution_count": 1,
   "metadata": {},
   "outputs": [],
   "source": [
    "import pandas as pd\n",
    "\n",
    "df = pd.read_excel('./base/despesas.xlsx')\n"
   ]
  },
  {
   "cell_type": "code",
   "execution_count": 2,
   "metadata": {},
   "outputs": [],
   "source": [
    "# Padronizar textos\n",
    "\n",
    "df['setor'] = df['setor'].str.lower().str.strip().str.replace(' ', '_')\n",
    "df['tipo'] = df['tipo'].str.lower().str.strip().str.replace(' ', '_').str.replace('compra_matéria-prima', \"matéria-prima\")\n",
    "df['fornecedor'] = df['fornecedor'].str.lower().str.strip().str.replace(' ', '_').str.replace('_-_', '_')\n",
    "\n"
   ]
  },
  {
   "cell_type": "code",
   "execution_count": 3,
   "metadata": {},
   "outputs": [],
   "source": [
    "# Milisegundos para data\n",
    "\n",
    "df['data'] = pd.to_datetime(df['data'], unit='ms',  )\n",
    "df['trimestre'] = df['data'].dt.quarter\n",
    "df['mensal'] = df['data'].dt.month\n"
   ]
  },
  {
   "cell_type": "code",
   "execution_count": 4,
   "metadata": {},
   "outputs": [],
   "source": [
    "df.to_excel('./limpo/despesas_limpo.xlsx', index=False)"
   ]
  },
  {
   "cell_type": "code",
   "execution_count": 5,
   "metadata": {},
   "outputs": [],
   "source": [
    "df = pd.read_excel('./base/orcamentos.xlsx')"
   ]
  },
  {
   "cell_type": "code",
   "execution_count": 6,
   "metadata": {},
   "outputs": [
    {
     "data": {
      "text/html": [
       "<div>\n",
       "<style scoped>\n",
       "    .dataframe tbody tr th:only-of-type {\n",
       "        vertical-align: middle;\n",
       "    }\n",
       "\n",
       "    .dataframe tbody tr th {\n",
       "        vertical-align: top;\n",
       "    }\n",
       "\n",
       "    .dataframe thead th {\n",
       "        text-align: right;\n",
       "    }\n",
       "</style>\n",
       "<table border=\"1\" class=\"dataframe\">\n",
       "  <thead>\n",
       "    <tr style=\"text-align: right;\">\n",
       "      <th></th>\n",
       "      <th>setor</th>\n",
       "      <th>mes</th>\n",
       "      <th>ano</th>\n",
       "      <th>valor_previsto</th>\n",
       "      <th>valor_realizado</th>\n",
       "    </tr>\n",
       "  </thead>\n",
       "  <tbody>\n",
       "    <tr>\n",
       "      <th>0</th>\n",
       "      <td>Produção</td>\n",
       "      <td>1</td>\n",
       "      <td>2024</td>\n",
       "      <td>14045.42</td>\n",
       "      <td>15524.519752</td>\n",
       "    </tr>\n",
       "    <tr>\n",
       "      <th>1</th>\n",
       "      <td>Produção</td>\n",
       "      <td>2</td>\n",
       "      <td>2024</td>\n",
       "      <td>42597.50</td>\n",
       "      <td>45075.424647</td>\n",
       "    </tr>\n",
       "    <tr>\n",
       "      <th>2</th>\n",
       "      <td>Produção</td>\n",
       "      <td>3</td>\n",
       "      <td>2024</td>\n",
       "      <td>39491.52</td>\n",
       "      <td>44155.593318</td>\n",
       "    </tr>\n",
       "    <tr>\n",
       "      <th>3</th>\n",
       "      <td>Produção</td>\n",
       "      <td>4</td>\n",
       "      <td>2024</td>\n",
       "      <td>52992.06</td>\n",
       "      <td>59965.364892</td>\n",
       "    </tr>\n",
       "    <tr>\n",
       "      <th>4</th>\n",
       "      <td>Produção</td>\n",
       "      <td>5</td>\n",
       "      <td>2024</td>\n",
       "      <td>16198.93</td>\n",
       "      <td>15988.451455</td>\n",
       "    </tr>\n",
       "    <tr>\n",
       "      <th>...</th>\n",
       "      <td>...</td>\n",
       "      <td>...</td>\n",
       "      <td>...</td>\n",
       "      <td>...</td>\n",
       "      <td>...</td>\n",
       "    </tr>\n",
       "    <tr>\n",
       "      <th>115</th>\n",
       "      <td>Comercial</td>\n",
       "      <td>8</td>\n",
       "      <td>2025</td>\n",
       "      <td>73532.49</td>\n",
       "      <td>63496.657091</td>\n",
       "    </tr>\n",
       "    <tr>\n",
       "      <th>116</th>\n",
       "      <td>Comercial</td>\n",
       "      <td>9</td>\n",
       "      <td>2025</td>\n",
       "      <td>46526.55</td>\n",
       "      <td>270703.309654</td>\n",
       "    </tr>\n",
       "    <tr>\n",
       "      <th>117</th>\n",
       "      <td>Comercial</td>\n",
       "      <td>10</td>\n",
       "      <td>2025</td>\n",
       "      <td>42068.07</td>\n",
       "      <td>43491.557474</td>\n",
       "    </tr>\n",
       "    <tr>\n",
       "      <th>118</th>\n",
       "      <td>Comercial</td>\n",
       "      <td>11</td>\n",
       "      <td>2025</td>\n",
       "      <td>79706.26</td>\n",
       "      <td>92876.931597</td>\n",
       "    </tr>\n",
       "    <tr>\n",
       "      <th>119</th>\n",
       "      <td>Comercial</td>\n",
       "      <td>12</td>\n",
       "      <td>2025</td>\n",
       "      <td>5122.75</td>\n",
       "      <td>5623.751964</td>\n",
       "    </tr>\n",
       "  </tbody>\n",
       "</table>\n",
       "<p>120 rows × 5 columns</p>\n",
       "</div>"
      ],
      "text/plain": [
       "         setor  mes   ano  valor_previsto  valor_realizado\n",
       "0     Produção    1  2024        14045.42     15524.519752\n",
       "1     Produção    2  2024        42597.50     45075.424647\n",
       "2     Produção    3  2024        39491.52     44155.593318\n",
       "3     Produção    4  2024        52992.06     59965.364892\n",
       "4     Produção    5  2024        16198.93     15988.451455\n",
       "..         ...  ...   ...             ...              ...\n",
       "115  Comercial    8  2025        73532.49     63496.657091\n",
       "116  Comercial    9  2025        46526.55    270703.309654\n",
       "117  Comercial   10  2025        42068.07     43491.557474\n",
       "118  Comercial   11  2025        79706.26     92876.931597\n",
       "119  Comercial   12  2025         5122.75      5623.751964\n",
       "\n",
       "[120 rows x 5 columns]"
      ]
     },
     "metadata": {},
     "output_type": "display_data"
    },
    {
     "name": "stdout",
     "output_type": "stream",
     "text": [
      "<class 'pandas.core.frame.DataFrame'>\n",
      "RangeIndex: 120 entries, 0 to 119\n",
      "Data columns (total 5 columns):\n",
      " #   Column           Non-Null Count  Dtype  \n",
      "---  ------           --------------  -----  \n",
      " 0   setor            120 non-null    object \n",
      " 1   mes              120 non-null    int64  \n",
      " 2   ano              120 non-null    int64  \n",
      " 3   valor_previsto   120 non-null    float64\n",
      " 4   valor_realizado  120 non-null    float64\n",
      "dtypes: float64(2), int64(2), object(1)\n",
      "memory usage: 4.8+ KB\n"
     ]
    }
   ],
   "source": [
    "# Visualizar\n",
    "\n",
    "display(df)\n",
    "\n",
    "df.info()"
   ]
  },
  {
   "cell_type": "code",
   "execution_count": 7,
   "metadata": {},
   "outputs": [],
   "source": [
    "# Padronizar textos\n",
    "\n",
    "df['setor'] = df['setor'].str.lower().str.strip().str.replace(' ', '_').str.replace('ç', 'c')\n",
    "\n"
   ]
  },
  {
   "cell_type": "code",
   "execution_count": 8,
   "metadata": {},
   "outputs": [],
   "source": [
    "# Apenas 2 digitos apos o ponto\n",
    "\n",
    "df['valor_realizado'] = df['valor_realizado'].round(2)"
   ]
  },
  {
   "cell_type": "code",
   "execution_count": 9,
   "metadata": {},
   "outputs": [],
   "source": [
    "# Ano e mês para data timestamp \n",
    "\n",
    "df['data'] = pd.to_datetime(df['ano'].astype(str) + '-' + df['mes'].astype(str) + '-01')\n",
    "df['trimestre'] = df['data'].dt.quarter\n"
   ]
  },
  {
   "cell_type": "code",
   "execution_count": 10,
   "metadata": {},
   "outputs": [],
   "source": [
    "df.to_excel('./limpo/orcamentos_limpo.xlsx', index=False)"
   ]
  }
 ],
 "metadata": {
  "kernelspec": {
   "display_name": "Python 3",
   "language": "python",
   "name": "python3"
  },
  "language_info": {
   "codemirror_mode": {
    "name": "ipython",
    "version": 3
   },
   "file_extension": ".py",
   "mimetype": "text/x-python",
   "name": "python",
   "nbconvert_exporter": "python",
   "pygments_lexer": "ipython3",
   "version": "3.12.1"
  }
 },
 "nbformat": 4,
 "nbformat_minor": 2
}
